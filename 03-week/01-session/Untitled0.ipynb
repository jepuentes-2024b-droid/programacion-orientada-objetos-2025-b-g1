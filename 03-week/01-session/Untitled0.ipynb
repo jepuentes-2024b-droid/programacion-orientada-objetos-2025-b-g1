{
  "nbformat": 4,
  "nbformat_minor": 0,
  "metadata": {
    "colab": {
      "provenance": []
    },
    "kernelspec": {
      "name": "python3",
      "display_name": "Python 3"
    },
    "language_info": {
      "name": "python"
    }
  },
  "cells": [
    {
      "cell_type": "code",
      "execution_count": 5,
      "metadata": {
        "id": "rwKBYw6-OdxL"
      },
      "outputs": [],
      "source": [
        "class Cuentabancaria:\n",
        "  def int(self, titular: str, saldo_inicial: float = 0.0):\n",
        "    if saldo_inicial < 0:\n",
        "      raise ValueError(\"El saldo inicial no puede ser negativo\")\n",
        "      self.titular = titular\n",
        "      self._saldo = float(saldo_inicial)\n",
        "      self.historial: list[str] = []\n",
        "\n",
        "      @property\n",
        "      def saldo(self) -> float:\n",
        "        return self._saldo\n",
        "\n",
        "      def depositar(self, monto: float) -> None:\n",
        "        if monto <= 0:\n",
        "          raise ValueError(\"El deposito debe de ser positivo\")\n",
        "        self._saldo += monto\n",
        "        self.historial.append(f\"Depósito de {monto}\")\n",
        "\n",
        "      def retirar(self, monto: float) -> None:\n",
        "        if monto <= 0:\n",
        "          raise ValvueError(\"El reito debe ser positivo\")\n",
        "        if monto > self._saldo:\n",
        "          raise ValueError(\"Fondos insuficientes\")\n",
        "        self._saldo -= monto\n",
        "        self.historial.append(f\"Retiro de {monto}\")\n",
        "\n",
        "      def repr(self) -> str:\n",
        "        return f\"CuentaBancaria(titular='{self.titular}', saldo={self._saldo:.2f})\"\n"
      ]
    },
    {
      "cell_type": "markdown",
      "source": [],
      "metadata": {
        "id": "T1FPd95sbElb"
      }
    },
    {
      "cell_type": "markdown",
      "source": [],
      "metadata": {
        "id": "0vfNfvFwbJB4"
      }
    }
  ]
}