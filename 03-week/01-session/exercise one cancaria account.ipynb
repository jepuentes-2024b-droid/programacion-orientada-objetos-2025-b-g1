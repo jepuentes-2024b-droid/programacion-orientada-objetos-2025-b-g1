{
  "cells": [
    {
      "cell_type": "code",
      "execution_count": null,
      "metadata": {
        "id": "rwKBYw6-OdxL"
      },
      "outputs": [],
      "source": [
        "# Crear una instancia de Cuentabancaria\n",
        "mi_cuenta = Cuentabancaria(titular=\"Juan Pérez\", saldo_inicial=1000.0)\n",
        "\n",
        "# Mostrar el saldo inicial\n",
        "print(f\"Saldo inicial de {mi_cuenta.titular}: {mi_cuenta.saldo:.2f}\")\n",
        "\n",
        "# Realizar un depósito\n",
        "mi_cuenta.depositar(500.0)\n",
        "print(f\"Saldo después del depósito: {mi_cuenta.saldo:.2f}\")\n",
        "\n",
        "# Realizar un retiro\n",
        "try:\n",
        "    mi_cuenta.retirar(200.0)\n",
        "    print(f\"Saldo después del retiro: {mi_cuenta.saldo:.2f}\")\n",
        "except ValueError as e:\n",
        "    print(f\"Error al retirar: {e}\")\n",
        "\n",
        "# Intentar un retiro mayor al saldo\n",
        "try:\n",
        "    mi_cuenta.retirar(2000.0)\n",
        "except ValueError as e:\n",
        "    print(f\"Error al intentar retirar más del saldo: {e}\")\n",
        "\n",
        "# Mostrar el historial de transacciones\n",
        "print(\"\\nHistorial de transacciones:\")\n",
        "for transaccion in mi_cuenta.historial:\n",
        "    print(f\"- {transaccion}\")\n",
        "#La clase CuentaBancaria representa una cuenta con un titular, un saldo inicial y un historial de movimientos.\n",
        "#En el constructor (__init__) se valida que el saldo inicial no sea negativo y se guardan los datos.\n",
        "#El método depositar aumenta el saldo si el monto es positivo y lo registra en el historial.\n",
        "#El método retirar descuenta del saldo si hay fondos suficientes y guarda la transacción.\n",
        "#El método __repr__ devuelve una representación en texto de la cuenta con titular y saldo./      \n"
      ]
    },
    {
      "cell_type": "markdown",
      "metadata": {
        "id": "0vfNfvFwbJB4"
      },
      "source": []
    }
  ],
  "metadata": {
    "colab": {
      "provenance": []
    },
    "kernelspec": {
      "display_name": "Python 3",
      "name": "python3"
    },
    "language_info": {
      "name": "python"
    }
  },
  "nbformat": 4,
  "nbformat_minor": 0
}
